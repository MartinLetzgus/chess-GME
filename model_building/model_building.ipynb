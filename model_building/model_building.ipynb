{
 "cells": [
  {
   "cell_type": "code",
   "execution_count": 1,
   "metadata": {},
   "outputs": [],
   "source": [
    "import pandas as pd\n",
    "import pickle\n",
    "import numpy as np\n",
    "import matplotlib.pyplot\n",
    "import sklearn\n",
    "import sklearn.model_selection, sklearn.svm\n",
    "from sklearn.model_selection import GridSearchCV\n",
    "from sklearn.ensemble import RandomForestRegressor\n",
    "from sklearn.linear_model import LinearRegression,Lasso,Ridge\n",
    "from sklearn.neural_network import MLPRegressor\n",
    "from sklearn.metrics import mean_absolute_error,mean_squared_error\n",
    "import itertools\n",
    "import warnings\n",
    "warnings.filterwarnings('ignore')"
   ]
  },
  {
   "cell_type": "code",
   "execution_count": 2,
   "metadata": {},
   "outputs": [],
   "source": [
    "df = pickle.load( open( \"chess_df.p\", \"rb\" ) )\n",
    "opening_1h = pd.get_dummies(df['opening'])\n",
    "df = df.drop(['opening'],axis=1)\n",
    "df = df.join(opening_1h)"
   ]
  },
  {
   "cell_type": "code",
   "execution_count": 3,
   "metadata": {},
   "outputs": [],
   "source": [
    "y = df['elo'].to_frame('elo')\n",
    "x = df.drop(['elo'],axis=1)"
   ]
  },
  {
   "cell_type": "code",
   "execution_count": 6,
   "metadata": {},
   "outputs": [
    {
     "name": "stdout",
     "output_type": "stream",
     "text": [
      "advantage_at_5\n",
      "advantage_at_10\n",
      "nb_moves\n",
      "nb_checks\n",
      "move_quality_1\n",
      "move_quality_2\n",
      "move_quality_3\n",
      "move_quality_4\n",
      "move_quality_5\n",
      "move_quality_6\n",
      "move_quality_7\n",
      "move_quality_8\n",
      "elo\n",
      "resignation\n",
      "win_on_time\n",
      "stalemate\n",
      "abandon\n",
      "checkmate\n",
      "drawn_agreement\n",
      "drawn_material\n",
      "drawn_rep_or_50\n",
      "analysis1\n",
      "analysis2\n",
      "analysis3\n",
      "analysis4\n",
      "A00\n",
      "A01\n",
      "A02\n",
      "A03\n",
      "A04\n",
      "A05\n",
      "A06\n",
      "A07\n",
      "A08\n",
      "A09\n",
      "A10\n",
      "A11\n",
      "A13\n",
      "A15\n",
      "A16\n",
      "A17\n",
      "A20\n",
      "A21\n",
      "A22\n",
      "A25\n",
      "A30\n",
      "A31\n",
      "A34\n",
      "A35\n",
      "A40\n",
      "A41\n",
      "A43\n",
      "A44\n",
      "A45\n",
      "A46\n",
      "A48\n",
      "A49\n",
      "A50\n",
      "A51\n",
      "A52\n",
      "A53\n",
      "A56\n",
      "A57\n",
      "A80\n",
      "A84\n",
      "A85\n",
      "B00\n",
      "B01\n",
      "B02\n",
      "B03\n",
      "B06\n",
      "B07\n",
      "B08\n",
      "B10\n",
      "B12\n",
      "B13\n",
      "B15\n",
      "B18\n",
      "B20\n",
      "B21\n",
      "B22\n",
      "B23\n",
      "B24\n",
      "B27\n",
      "B28\n",
      "B30\n",
      "B31\n",
      "B32\n",
      "B33\n",
      "B34\n",
      "B40\n",
      "B41\n",
      "B43\n",
      "B44\n",
      "B50\n",
      "B51\n",
      "B52\n",
      "B53\n",
      "B54\n",
      "B56\n",
      "B70\n",
      "B80\n",
      "B90\n",
      "C00\n",
      "C01\n",
      "C02\n",
      "C05\n",
      "C10\n",
      "C11\n",
      "C20\n",
      "C21\n",
      "C22\n",
      "C23\n",
      "C24\n",
      "C25\n",
      "C26\n",
      "C28\n",
      "C30\n",
      "C31\n",
      "C33\n",
      "C34\n",
      "C35\n",
      "C37\n",
      "C40\n",
      "C41\n",
      "C42\n",
      "C43\n",
      "C44\n",
      "C45\n",
      "C46\n",
      "C47\n",
      "C48\n",
      "C50\n",
      "C51\n",
      "C53\n",
      "C54\n",
      "C55\n",
      "C57\n",
      "C58\n",
      "C60\n",
      "C61\n",
      "C62\n",
      "C64\n",
      "C65\n",
      "C66\n",
      "C67\n",
      "C68\n",
      "C70\n",
      "C77\n",
      "C78\n",
      "D00\n",
      "D02\n",
      "D03\n",
      "D04\n",
      "D06\n",
      "D07\n",
      "D08\n",
      "D10\n",
      "D11\n",
      "D13\n",
      "D20\n",
      "D30\n",
      "D31\n",
      "D32\n",
      "D35\n",
      "D37\n",
      "D43\n",
      "D50\n",
      "D53\n",
      "D80\n",
      "D85\n",
      "E00\n",
      "E10\n",
      "E20\n",
      "E60\n",
      "E61\n",
      "E70\n",
      "E90\n",
      "Other\n"
     ]
    }
   ],
   "source": [
    "for i in (df.columns):\n",
    "    print(i)"
   ]
  },
  {
   "cell_type": "code",
   "execution_count": 6,
   "metadata": {},
   "outputs": [],
   "source": [
    "x_train, x_test, y_train, y_test = sklearn.model_selection.train_test_split(x,y,test_size=0.2,)\n",
    "x_train.reset_index(inplace=True)\n",
    "x_train.drop(['index'], axis=1, inplace=True)\n",
    "y_train.reset_index(inplace=True)\n",
    "y_train.drop(['index'], axis=1, inplace=True)\n",
    "x_test.reset_index(inplace=True)\n",
    "x_test.drop(['index'], axis=1, inplace=True)\n",
    "y_test.reset_index(inplace=True)\n",
    "y_test.drop(['index'], axis=1, inplace=True)"
   ]
  },
  {
   "cell_type": "code",
   "execution_count": 9,
   "metadata": {},
   "outputs": [
    {
     "name": "stdout",
     "output_type": "stream",
     "text": [
      "(11, 9, 1) 0.40269014138713555 412.4165557950952\n"
     ]
    }
   ],
   "source": [
    "#Get best RF\n",
    "\n",
    "depth = [9,10,11,]\n",
    "min_samples_split=[9]\n",
    "min_samples_leaf=[1]\n",
    "\n",
    "maxi=0\n",
    "best=''\n",
    "best_model = 0\n",
    "for d in depth:\n",
    "    for mss in min_samples_split:\n",
    "        for msl in min_samples_leaf:\n",
    "            regr = RandomForestRegressor(n_estimators=500,max_depth=d, min_samples_split=mss, min_samples_leaf=msl, random_state=0)\n",
    "            regr.fit(x_train,y_train)\n",
    "            res = regr.score(x_test,y_test)\n",
    "            if res>maxi:\n",
    "                maxi=res\n",
    "                best=d,mss,msl\n",
    "                best_model=regr\n",
    "\n",
    "print(best, maxi, mean_absolute_error(best_model.predict(x_test),y_test))"
   ]
  },
  {
   "cell_type": "code",
   "execution_count": 10,
   "metadata": {},
   "outputs": [
    {
     "name": "stdout",
     "output_type": "stream",
     "text": [
      "Lasso(alpha=0.1, copy_X=True, fit_intercept=True, max_iter=1000,\n",
      "      normalize=False, positive=False, precompute=False, random_state=None,\n",
      "      selection='cyclic', tol=0.0001, warm_start=False) 0.4396045874824525 396.48207514962445\n"
     ]
    }
   ],
   "source": [
    "#Linear Models\n",
    "\n",
    "models = [LinearRegression(),Lasso(0.001),Lasso(0.05),Lasso(0.01),Lasso(0.05),Lasso(0.1),Lasso(0.5),Lasso(1),Ridge(0.01),Ridge(0.05),Ridge(0.1),Ridge(0.5),Ridge(1)]\n",
    "\n",
    "maxi = 0\n",
    "best = 0\n",
    "for m in models:\n",
    "    m.fit(x_train,y_train)\n",
    "    res = m.score(x_test,y_test)\n",
    "    if res>maxi:\n",
    "        maxi=res\n",
    "        best=m\n",
    "        \n",
    "print(best, res, mean_absolute_error(best.predict(x_test),y_test))"
   ]
  },
  {
   "cell_type": "code",
   "execution_count": 11,
   "metadata": {},
   "outputs": [
    {
     "name": "stdout",
     "output_type": "stream",
     "text": [
      "[1857.82860596  853.88979939 1699.03633762 ... 1113.58760148 1429.08043378\n",
      " 1250.15607141]\n",
      "MLPRegressor(activation='relu', alpha=0.0001, batch_size='auto', beta_1=0.9,\n",
      "             beta_2=0.999, early_stopping=False, epsilon=1e-08,\n",
      "             hidden_layer_sizes=(100,), learning_rate='constant',\n",
      "             learning_rate_init=0.001, max_iter=200, momentum=0.9,\n",
      "             n_iter_no_change=10, nesterovs_momentum=True, power_t=0.5,\n",
      "             random_state=None, shuffle=True, solver='adam', tol=0.0001,\n",
      "             validation_fraction=0.1, verbose=False, warm_start=False) 0.4479915223607429 392.19381895339285\n"
     ]
    }
   ],
   "source": [
    "#MLP\n",
    "\n",
    "models = [MLPRegressor()]\n",
    "\n",
    "maxi = 0\n",
    "best = 0\n",
    "for m in models:\n",
    "    m.fit(x_train,y_train)\n",
    "    print(m.predict(x_test))\n",
    "    res = m.score(x_test,y_test)\n",
    "    if res>maxi:\n",
    "        maxi=res\n",
    "        best=m\n",
    "        \n",
    "print(best, res, mean_absolute_error(best.predict(x_test),y_test))"
   ]
  },
  {
   "cell_type": "code",
   "execution_count": 19,
   "metadata": {},
   "outputs": [
    {
     "name": "stdout",
     "output_type": "stream",
     "text": [
      "((100, 75, 50), 'relu', 'adam', 0.001, 'constant', 300)\n",
      "381.6391152602505\n",
      "((100, 75, 50), 'relu', 'adam', 0.001, 'constant', 400)\n",
      "383.90598835857384\n",
      "((100, 75, 50), 'relu', 'adam', 0.001, 'constant', 500)\n",
      "374.8499219794599\n",
      "((100, 75, 50), 'relu', 'adam', 0.001, 'constant', 600)\n",
      "377.95594680354924\n",
      "((100, 75, 50), 'relu', 'adam', 0.001, 'constant', 700)\n",
      "381.66373491000525\n",
      "((100, 100, 75, 50), 'relu', 'adam', 0.001, 'constant', 300)\n",
      "384.19989763492816\n",
      "((100, 100, 75, 50), 'relu', 'adam', 0.001, 'constant', 400)\n",
      "388.23713700958734\n",
      "((100, 100, 75, 50), 'relu', 'adam', 0.001, 'constant', 500)\n",
      "381.8876299291615\n",
      "((100, 100, 75, 50), 'relu', 'adam', 0.001, 'constant', 600)\n",
      "388.3533751223379\n",
      "((100, 100, 75, 50), 'relu', 'adam', 0.001, 'constant', 700)\n",
      "383.81325412407557\n",
      "374.8499219794599\n"
     ]
    }
   ],
   "source": [
    "check_parameters = {\n",
    "    'hidden_layer_sizes': [(100,75,50,),(100,100,75,50,)],\n",
    "    'activation': ['relu'],\n",
    "    'solver': ['adam'],\n",
    "    'alpha': [0.001],\n",
    "    'learning_rate': ['constant'],\n",
    "    'max_iter': [300,400,500,600,700]\n",
    "    \n",
    "}\n",
    "\n",
    "def train_evaluate(model,x_train,y_train,x_test,y_test):\n",
    "    model.fit(x_train, y_train)\n",
    "    pred = (model.predict(x_test))\n",
    "    return(mean_absolute_error(pred,y_test))\n",
    "\n",
    "mini=100000\n",
    "best_model =0\n",
    "values = [v for k,v in check_parameters.items()]\n",
    "for i in itertools.product(*values):\n",
    "    print(i)\n",
    "    model = MLPRegressor(i[0],i[1],i[2],i[3],learning_rate=i[4],max_iter=i[5])\n",
    "    score = train_evaluate(model,x_train,y_train,x_test,y_test)\n",
    "    print(score)\n",
    "    if score<mini:\n",
    "        mini=score\n",
    "        best_model=model\n",
    "        \n",
    "best_model_mlp = best_model\n",
    "print(mini)"
   ]
  },
  {
   "cell_type": "code",
   "execution_count": 15,
   "metadata": {},
   "outputs": [
    {
     "data": {
      "text/plain": [
       "MLPRegressor(activation='relu', alpha=0.1, batch_size='auto', beta_1=0.9,\n",
       "             beta_2=0.999, early_stopping=False, epsilon=1e-08,\n",
       "             hidden_layer_sizes=(100, 75, 50), learning_rate='constant',\n",
       "             learning_rate_init=0.001, max_iter=300, momentum=0.9,\n",
       "             n_iter_no_change=10, nesterovs_momentum=True, power_t=0.5,\n",
       "             random_state=None, shuffle=True, solver='adam', tol=0.0001,\n",
       "             validation_fraction=0.1, verbose=False, warm_start=False)"
      ]
     },
     "execution_count": 15,
     "metadata": {},
     "output_type": "execute_result"
    }
   ],
   "source": [
    "besti = best_model_mlp\n",
    "besti"
   ]
  },
  {
   "cell_type": "code",
   "execution_count": 21,
   "metadata": {},
   "outputs": [],
   "source": [
    "pickle.dump(best_model_mlp, open('trainedmlp.p', 'wb'))"
   ]
  },
  {
   "cell_type": "code",
   "execution_count": 20,
   "metadata": {},
   "outputs": [
    {
     "data": {
      "text/plain": [
       "375.2143485749936"
      ]
     },
     "execution_count": 20,
     "metadata": {},
     "output_type": "execute_result"
    }
   ],
   "source": [
    "mean_absolute_error((best_model_mlp.predict(x_test)+besti.predict(x_test))/2,y_test)"
   ]
  },
  {
   "cell_type": "code",
   "execution_count": 35,
   "metadata": {},
   "outputs": [
    {
     "data": {
      "text/plain": [
       "0"
      ]
     },
     "execution_count": 35,
     "metadata": {},
     "output_type": "execute_result"
    }
   ],
   "source": [
    "y_test.isnull().sum().sum()"
   ]
  },
  {
   "cell_type": "code",
   "execution_count": 110,
   "metadata": {},
   "outputs": [
    {
     "name": "stderr",
     "output_type": "stream",
     "text": [
      "C:\\Users\\marti\\Anaconda3\\lib\\site-packages\\sklearn\\ensemble\\forest.py:245: FutureWarning: The default value of n_estimators will change from 10 in version 0.20 to 100 in 0.22.\n",
      "  \"10 in version 0.20 to 100 in 0.22.\", FutureWarning)\n",
      "C:\\Users\\marti\\Anaconda3\\lib\\site-packages\\ipykernel_launcher.py:1: DataConversionWarning: A column-vector y was passed when a 1d array was expected. Please change the shape of y to (n_samples,), for example using ravel().\n",
      "  \"\"\"Entry point for launching an IPython kernel.\n"
     ]
    },
    {
     "data": {
      "text/plain": [
       "RandomForestRegressor(bootstrap=True, criterion='mse', max_depth=10,\n",
       "                      max_features='auto', max_leaf_nodes=None,\n",
       "                      min_impurity_decrease=0.0, min_impurity_split=None,\n",
       "                      min_samples_leaf=1, min_samples_split=2,\n",
       "                      min_weight_fraction_leaf=0.0, n_estimators=10,\n",
       "                      n_jobs=None, oob_score=False, random_state=0, verbose=0,\n",
       "                      warm_start=False)"
      ]
     },
     "execution_count": 110,
     "metadata": {},
     "output_type": "execute_result"
    }
   ],
   "source": [
    "regr.fit(x_train,y_train)"
   ]
  },
  {
   "cell_type": "code",
   "execution_count": 111,
   "metadata": {},
   "outputs": [
    {
     "data": {
      "text/plain": [
       "0.5711256156470043"
      ]
     },
     "execution_count": 111,
     "metadata": {},
     "output_type": "execute_result"
    }
   ],
   "source": [
    "regr.score(x_train,y_train)"
   ]
  },
  {
   "cell_type": "code",
   "execution_count": 112,
   "metadata": {},
   "outputs": [
    {
     "data": {
      "text/plain": [
       "0.36586541160044206"
      ]
     },
     "execution_count": 112,
     "metadata": {},
     "output_type": "execute_result"
    }
   ],
   "source": [
    "regr.score(x_test,y_test)"
   ]
  }
 ],
 "metadata": {
  "kernelspec": {
   "display_name": "Python 3",
   "language": "python",
   "name": "python3"
  },
  "language_info": {
   "codemirror_mode": {
    "name": "ipython",
    "version": 3
   },
   "file_extension": ".py",
   "mimetype": "text/x-python",
   "name": "python",
   "nbconvert_exporter": "python",
   "pygments_lexer": "ipython3",
   "version": "3.7.4"
  }
 },
 "nbformat": 4,
 "nbformat_minor": 2
}
